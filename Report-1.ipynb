{
 "cells": [
  {
   "cell_type": "markdown",
   "metadata": {},
   "source": [
    "**Which insights did you gain from your EDA? Were any columns highly correlated? If so, name them.**\n",
    "\n",
    "* During exploratory data analysis (EDA), I found that the dataset was predominantly composed of integer features, with a small number of object-type columns. \"Pop\" was the most common genre, and 2017 marked the peak year for music releases. A strong negative correlation between \"age\" and \"release date\" highlighted the intuitive relationship between older tracks and earlier release years. Interestingly, there was a moderate positive correlation between the \"obscene\" content in lyrics and the \"len\" feature, suggesting that longer songs tend to include more explicit language. These insights helped shape the preprocessing and feature selection steps of the project."
   ]
  },
  {
   "cell_type": "markdown",
   "metadata": {},
   "source": [
    " **How did you determine which columns to drop or keep? If your EDA informed this process, explain which insights you used to determine which columns were not needed.**\n",
    "\n",
    "* During EDA, I initially kept most features to explore their distributions and relationships. As I moved toward preparing the data for K-Means clustering, I referenced best practices for unsupervised learning and determined that categorical columns should be removed. This is because K-Means relies on calculating distances and centroids, which require numeric input. Additionally, I removed the \"release_date\" column due to its strong negative correlation with \"age\"—retaining both would introduce redundancy. I kept the numerical features that represented various lyrical and thematic content, as these were appropriate for clustering and allowed meaningful interpretation of the resulting groups."
   ]
  },
  {
   "cell_type": "markdown",
   "metadata": {},
   "source": [
    " **What was the optimal number of clusters in your cluster model? Explain how you determined this value.**\n",
    "\n",
    "* The optimal number of clusters was 13, which I determined after scaling my data and applying both the Elbow Method and Silhouette Score. The elbow plot showed a clear bend at 13, and the silhouette score was also strong at that point, suggesting well-defined and meaningful clusters."
   ]
  },
  {
   "cell_type": "markdown",
   "metadata": {},
   "source": [
    "**Take a look at the respective songs that fell into your clusters. Describe these clusters in human terms to the best of your ability using the columns in your dataset (for example high-gospel songs, low-gospel songs, etc). Feel free to listen to these songs as well to get a sense of what nuance your algorithm picked up on.**\n",
    "\n",
    "* Taking a closer look at Cluster 0, which scores high in family/gospel (4.42), family/spiritual (0.04), and age (0.27), the songs in this group appear to revolve around themes of faith, familial relationships, and maturity. Many lyrics reference God, parent-child dynamics, and even seasonal or holiday undertones. Interestingly, these themes are not confined to one genre—they show up in songs by artists ranging from Queen to Christian rock bands like Casting Crowns.\n",
    "\n",
    "* Cluster 7, on the other hand, scores significantly high in dating (4.27) and has noticeable leanings toward romantic themes. Despite spanning a variety of genres and release years, the common thread here seems to be emotional intimacy and relationships, rather than when the songs were released or what genre they belong to. This suggests that the algorithm picked up on thematic content over temporal or stylistic traits.\n",
    "\n"
   ]
  },
  {
   "cell_type": "markdown",
   "metadata": {},
   "source": [
    "**Take a look at the clusters that your algorithm assigned to your test samples. Based on these clusters, which songs would you recommend to this user?**\n",
    "\n",
    " * Truthfully, I wouldn't recommend any of these songs to the user based on the current clusters. The recommendation dataset is quite small, which makes it difficult for the model to identify strong patterns or shared characteristics within the songs. As a result, the clusters formed may not be meaningful enough to support reliable recommendations. In future iterations, using a larger and more diverse recommendation dataset could help improve cluster quality and enhance the model’s ability to make personalized suggestions.\n",
    "\n"
   ]
  }
 ],
 "metadata": {
  "language_info": {
   "name": "python"
  }
 },
 "nbformat": 4,
 "nbformat_minor": 2
}
